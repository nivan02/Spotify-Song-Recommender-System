{
 "cells": [
  {
   "cell_type": "code",
   "execution_count": 7,
   "metadata": {},
   "outputs": [],
   "source": [
    "import pandas as pd \n",
    "import numpy as np \n",
    "import snowflake.connector\n",
    "import glob\n",
    "import os\n"
   ]
  },
  {
   "cell_type": "code",
   "execution_count": 69,
   "metadata": {},
   "outputs": [],
   "source": [
    "# Establish connection to Snowflake\n",
    "conn = snowflake.connector.connect(\n",
    "    user='GAANDAYA',\n",
    "    password='Ashley@500@600!!!',\n",
    "    account='boszpuz-awb44994'\n",
    ")\n",
    "\n",
    "# Create a cursor object to interact with the database\n",
    "cs = conn.cursor()"
   ]
  },
  {
   "cell_type": "code",
   "execution_count": 70,
   "metadata": {},
   "outputs": [
    {
     "data": {
      "text/plain": [
       "<snowflake.connector.cursor.SnowflakeCursor at 0x7f832cd0e010>"
      ]
     },
     "execution_count": 70,
     "metadata": {},
     "output_type": "execute_result"
    }
   ],
   "source": [
    "#create warehouse and database using cs.execute commands\n",
    "ware_house_name = 'MUSIC_WAREHOUSE'\n",
    "database_name = 'SPOTIFY_SNOWFLAKE'\n",
    "cs.execute(f\"CREATE WAREHOUSE IF NOT EXISTS {ware_house_name}\")\n",
    "cs.execute(f\"CREATE DATABASE IF NOT EXISTS {database_name}\")"
   ]
  },
  {
   "cell_type": "code",
   "execution_count": 71,
   "metadata": {},
   "outputs": [
    {
     "data": {
      "text/plain": [
       "<snowflake.connector.cursor.SnowflakeCursor at 0x7f832cd0e010>"
      ]
     },
     "execution_count": 71,
     "metadata": {},
     "output_type": "execute_result"
    }
   ],
   "source": [
    "# Create CSV file format\n",
    "cs.execute(\"use Database SPOTIFY_SNOWFLAKE\")\n",
    "query_for_csv_format = \"\"\" \n",
    "CREATE OR REPLACE FILE FORMAT csv_format\n",
    "TYPE = 'CSV'\n",
    "FIELD_OPTIONALLY_ENCLOSED_BY = '\"'\n",
    "\"\"\"\n",
    "cs.execute(query_for_csv_format)\n"
   ]
  },
  {
   "cell_type": "code",
   "execution_count": 72,
   "metadata": {},
   "outputs": [
    {
     "name": "stdout",
     "output_type": "stream",
     "text": [
      "Schema created successfully\n"
     ]
    }
   ],
   "source": [
    "#Create the schema\n",
    "schema_name = 'MUSIC_SCHEMA'\n",
    "\n",
    "try:\n",
    "    cs.execute(f\"CREATE SCHEMA IF NOT EXISTS {schema_name}\")\n",
    "    print(\"Schema created successfully\")\n",
    "    \n",
    "except Exception as e:\n",
    "    print(f\"An error occurred: {e}\")\n",
    "\n"
   ]
  },
  {
   "cell_type": "code",
   "execution_count": 73,
   "metadata": {},
   "outputs": [
    {
     "name": "stdout",
     "output_type": "stream",
     "text": [
      "Stage created successfully.\n"
     ]
    }
   ],
   "source": [
    "#Create a stage for staging edits etc.\n",
    "stage_name ='spotify_stage'\n",
    "try:\n",
    "    cs.execute(f\"CREATE OR REPLACE STAGE {schema_name}.{stage_name}\")\n",
    "    print(\"Stage created successfully.\")\n",
    "except Exception as e:\n",
    "    print(f\"An error occurred: {e}\")"
   ]
  },
  {
   "cell_type": "code",
   "execution_count": 74,
   "metadata": {},
   "outputs": [
    {
     "data": {
      "text/html": [
       "<div>\n",
       "<style scoped>\n",
       "    .dataframe tbody tr th:only-of-type {\n",
       "        vertical-align: middle;\n",
       "    }\n",
       "\n",
       "    .dataframe tbody tr th {\n",
       "        vertical-align: top;\n",
       "    }\n",
       "\n",
       "    .dataframe thead th {\n",
       "        text-align: right;\n",
       "    }\n",
       "</style>\n",
       "<table border=\"1\" class=\"dataframe\">\n",
       "  <thead>\n",
       "    <tr style=\"text-align: right;\">\n",
       "      <th></th>\n",
       "      <th>track_id</th>\n",
       "      <th>track_name</th>\n",
       "      <th>track_artist</th>\n",
       "      <th>track_popularity</th>\n",
       "      <th>track_album_id</th>\n",
       "      <th>track_album_name</th>\n",
       "      <th>track_album_release_date</th>\n",
       "      <th>playlist_name</th>\n",
       "      <th>playlist_id</th>\n",
       "      <th>playlist_genre</th>\n",
       "      <th>...</th>\n",
       "      <th>key</th>\n",
       "      <th>loudness</th>\n",
       "      <th>mode</th>\n",
       "      <th>speechiness</th>\n",
       "      <th>acousticness</th>\n",
       "      <th>instrumentalness</th>\n",
       "      <th>liveness</th>\n",
       "      <th>valence</th>\n",
       "      <th>tempo</th>\n",
       "      <th>duration_ms</th>\n",
       "    </tr>\n",
       "  </thead>\n",
       "  <tbody>\n",
       "    <tr>\n",
       "      <th>0</th>\n",
       "      <td>6f807x0ima9a1j3VPbc7VN</td>\n",
       "      <td>I Don't Care (with Justin Bieber) - Loud Luxur...</td>\n",
       "      <td>Ed Sheeran</td>\n",
       "      <td>66</td>\n",
       "      <td>2oCs0DGTsRO98Gh5ZSl2Cx</td>\n",
       "      <td>I Don't Care (with Justin Bieber) [Loud Luxury...</td>\n",
       "      <td>2019-06-14</td>\n",
       "      <td>Pop Remix</td>\n",
       "      <td>37i9dQZF1DXcZDD7cfEKhW</td>\n",
       "      <td>pop</td>\n",
       "      <td>...</td>\n",
       "      <td>6</td>\n",
       "      <td>-2.634</td>\n",
       "      <td>1</td>\n",
       "      <td>0.0583</td>\n",
       "      <td>0.1020</td>\n",
       "      <td>0.000000</td>\n",
       "      <td>0.0653</td>\n",
       "      <td>0.518</td>\n",
       "      <td>122.036</td>\n",
       "      <td>194754</td>\n",
       "    </tr>\n",
       "    <tr>\n",
       "      <th>1</th>\n",
       "      <td>0r7CVbZTWZgbTCYdfa2P31</td>\n",
       "      <td>Memories - Dillon Francis Remix</td>\n",
       "      <td>Maroon 5</td>\n",
       "      <td>67</td>\n",
       "      <td>63rPSO264uRjW1X5E6cWv6</td>\n",
       "      <td>Memories (Dillon Francis Remix)</td>\n",
       "      <td>2019-12-13</td>\n",
       "      <td>Pop Remix</td>\n",
       "      <td>37i9dQZF1DXcZDD7cfEKhW</td>\n",
       "      <td>pop</td>\n",
       "      <td>...</td>\n",
       "      <td>11</td>\n",
       "      <td>-4.969</td>\n",
       "      <td>1</td>\n",
       "      <td>0.0373</td>\n",
       "      <td>0.0724</td>\n",
       "      <td>0.004210</td>\n",
       "      <td>0.3570</td>\n",
       "      <td>0.693</td>\n",
       "      <td>99.972</td>\n",
       "      <td>162600</td>\n",
       "    </tr>\n",
       "    <tr>\n",
       "      <th>2</th>\n",
       "      <td>1z1Hg7Vb0AhHDiEmnDE79l</td>\n",
       "      <td>All the Time - Don Diablo Remix</td>\n",
       "      <td>Zara Larsson</td>\n",
       "      <td>70</td>\n",
       "      <td>1HoSmj2eLcsrR0vE9gThr4</td>\n",
       "      <td>All the Time (Don Diablo Remix)</td>\n",
       "      <td>2019-07-05</td>\n",
       "      <td>Pop Remix</td>\n",
       "      <td>37i9dQZF1DXcZDD7cfEKhW</td>\n",
       "      <td>pop</td>\n",
       "      <td>...</td>\n",
       "      <td>1</td>\n",
       "      <td>-3.432</td>\n",
       "      <td>0</td>\n",
       "      <td>0.0742</td>\n",
       "      <td>0.0794</td>\n",
       "      <td>0.000023</td>\n",
       "      <td>0.1100</td>\n",
       "      <td>0.613</td>\n",
       "      <td>124.008</td>\n",
       "      <td>176616</td>\n",
       "    </tr>\n",
       "    <tr>\n",
       "      <th>3</th>\n",
       "      <td>75FpbthrwQmzHlBJLuGdC7</td>\n",
       "      <td>Call You Mine - Keanu Silva Remix</td>\n",
       "      <td>The Chainsmokers</td>\n",
       "      <td>60</td>\n",
       "      <td>1nqYsOef1yKKuGOVchbsk6</td>\n",
       "      <td>Call You Mine - The Remixes</td>\n",
       "      <td>2019-07-19</td>\n",
       "      <td>Pop Remix</td>\n",
       "      <td>37i9dQZF1DXcZDD7cfEKhW</td>\n",
       "      <td>pop</td>\n",
       "      <td>...</td>\n",
       "      <td>7</td>\n",
       "      <td>-3.778</td>\n",
       "      <td>1</td>\n",
       "      <td>0.1020</td>\n",
       "      <td>0.0287</td>\n",
       "      <td>0.000009</td>\n",
       "      <td>0.2040</td>\n",
       "      <td>0.277</td>\n",
       "      <td>121.956</td>\n",
       "      <td>169093</td>\n",
       "    </tr>\n",
       "    <tr>\n",
       "      <th>4</th>\n",
       "      <td>1e8PAfcKUYoKkxPhrHqw4x</td>\n",
       "      <td>Someone You Loved - Future Humans Remix</td>\n",
       "      <td>Lewis Capaldi</td>\n",
       "      <td>69</td>\n",
       "      <td>7m7vv9wlQ4i0LFuJiE2zsQ</td>\n",
       "      <td>Someone You Loved (Future Humans Remix)</td>\n",
       "      <td>2019-03-05</td>\n",
       "      <td>Pop Remix</td>\n",
       "      <td>37i9dQZF1DXcZDD7cfEKhW</td>\n",
       "      <td>pop</td>\n",
       "      <td>...</td>\n",
       "      <td>1</td>\n",
       "      <td>-4.672</td>\n",
       "      <td>1</td>\n",
       "      <td>0.0359</td>\n",
       "      <td>0.0803</td>\n",
       "      <td>0.000000</td>\n",
       "      <td>0.0833</td>\n",
       "      <td>0.725</td>\n",
       "      <td>123.976</td>\n",
       "      <td>189052</td>\n",
       "    </tr>\n",
       "  </tbody>\n",
       "</table>\n",
       "<p>5 rows × 23 columns</p>\n",
       "</div>"
      ],
      "text/plain": [
       "                 track_id                                         track_name  \\\n",
       "0  6f807x0ima9a1j3VPbc7VN  I Don't Care (with Justin Bieber) - Loud Luxur...   \n",
       "1  0r7CVbZTWZgbTCYdfa2P31                    Memories - Dillon Francis Remix   \n",
       "2  1z1Hg7Vb0AhHDiEmnDE79l                    All the Time - Don Diablo Remix   \n",
       "3  75FpbthrwQmzHlBJLuGdC7                  Call You Mine - Keanu Silva Remix   \n",
       "4  1e8PAfcKUYoKkxPhrHqw4x            Someone You Loved - Future Humans Remix   \n",
       "\n",
       "       track_artist  track_popularity          track_album_id  \\\n",
       "0        Ed Sheeran                66  2oCs0DGTsRO98Gh5ZSl2Cx   \n",
       "1          Maroon 5                67  63rPSO264uRjW1X5E6cWv6   \n",
       "2      Zara Larsson                70  1HoSmj2eLcsrR0vE9gThr4   \n",
       "3  The Chainsmokers                60  1nqYsOef1yKKuGOVchbsk6   \n",
       "4     Lewis Capaldi                69  7m7vv9wlQ4i0LFuJiE2zsQ   \n",
       "\n",
       "                                    track_album_name track_album_release_date  \\\n",
       "0  I Don't Care (with Justin Bieber) [Loud Luxury...               2019-06-14   \n",
       "1                    Memories (Dillon Francis Remix)               2019-12-13   \n",
       "2                    All the Time (Don Diablo Remix)               2019-07-05   \n",
       "3                        Call You Mine - The Remixes               2019-07-19   \n",
       "4            Someone You Loved (Future Humans Remix)               2019-03-05   \n",
       "\n",
       "  playlist_name             playlist_id playlist_genre  ... key  loudness  \\\n",
       "0     Pop Remix  37i9dQZF1DXcZDD7cfEKhW            pop  ...   6    -2.634   \n",
       "1     Pop Remix  37i9dQZF1DXcZDD7cfEKhW            pop  ...  11    -4.969   \n",
       "2     Pop Remix  37i9dQZF1DXcZDD7cfEKhW            pop  ...   1    -3.432   \n",
       "3     Pop Remix  37i9dQZF1DXcZDD7cfEKhW            pop  ...   7    -3.778   \n",
       "4     Pop Remix  37i9dQZF1DXcZDD7cfEKhW            pop  ...   1    -4.672   \n",
       "\n",
       "   mode  speechiness  acousticness  instrumentalness  liveness  valence  \\\n",
       "0     1       0.0583        0.1020          0.000000    0.0653    0.518   \n",
       "1     1       0.0373        0.0724          0.004210    0.3570    0.693   \n",
       "2     0       0.0742        0.0794          0.000023    0.1100    0.613   \n",
       "3     1       0.1020        0.0287          0.000009    0.2040    0.277   \n",
       "4     1       0.0359        0.0803          0.000000    0.0833    0.725   \n",
       "\n",
       "     tempo  duration_ms  \n",
       "0  122.036       194754  \n",
       "1   99.972       162600  \n",
       "2  124.008       176616  \n",
       "3  121.956       169093  \n",
       "4  123.976       189052  \n",
       "\n",
       "[5 rows x 23 columns]"
      ]
     },
     "execution_count": 74,
     "metadata": {},
     "output_type": "execute_result"
    }
   ],
   "source": [
    "file_path = 'spotify_songs.csv'\n",
    "spotify_df = pd.read_csv(file_path)\n",
    "spotify_df.head()"
   ]
  },
  {
   "cell_type": "code",
   "execution_count": 75,
   "metadata": {},
   "outputs": [
    {
     "name": "stdout",
     "output_type": "stream",
     "text": [
      "datetime64[ns]\n"
     ]
    }
   ],
   "source": [
    "# conveert column to appropiate data type\n",
    "spotify_df['track_album_release_date'] = pd.to_datetime(spotify_df['track_album_release_date'], errors='coerce')\n",
    "print(spotify_df['track_album_release_date'].dtypes)"
   ]
  },
  {
   "cell_type": "code",
   "execution_count": 76,
   "metadata": {},
   "outputs": [
    {
     "data": {
      "text/plain": [
       "track_id                            object\n",
       "track_name                          object\n",
       "track_artist                        object\n",
       "track_popularity                     int64\n",
       "track_album_id                      object\n",
       "track_album_name                    object\n",
       "track_album_release_date    datetime64[ns]\n",
       "playlist_name                       object\n",
       "playlist_id                         object\n",
       "playlist_genre                      object\n",
       "playlist_subgenre                   object\n",
       "danceability                       float64\n",
       "energy                             float64\n",
       "key                                  int64\n",
       "loudness                           float64\n",
       "mode                                 int64\n",
       "speechiness                        float64\n",
       "acousticness                       float64\n",
       "instrumentalness                   float64\n",
       "liveness                           float64\n",
       "valence                            float64\n",
       "tempo                              float64\n",
       "duration_ms                          int64\n",
       "dtype: object"
      ]
     },
     "execution_count": 76,
     "metadata": {},
     "output_type": "execute_result"
    }
   ],
   "source": [
    "spotify_df.dtypes"
   ]
  },
  {
   "cell_type": "code",
   "execution_count": 77,
   "metadata": {},
   "outputs": [],
   "source": [
    "#Save new datatypes to the csv file\n",
    "spotify_df.to_csv('spotify_songs.csv', index=False)\n"
   ]
  },
  {
   "cell_type": "code",
   "execution_count": 78,
   "metadata": {},
   "outputs": [
    {
     "data": {
      "text/plain": [
       "<snowflake.connector.cursor.SnowflakeCursor at 0x7f832cd0e010>"
      ]
     },
     "execution_count": 78,
     "metadata": {},
     "output_type": "execute_result"
    }
   ],
   "source": [
    "cs.execute(\n",
    "    \"\"\"\n",
    "    CREATE OR REPLACE TABLE MUSIC_SCHEMA.spotify_songs (\n",
    "        track_id VARCHAR,\n",
    "        track_name VARCHAR,\n",
    "        track_artist VARCHAR,\n",
    "        track_popularity INT,\n",
    "        track_album_id VARCHAR,\n",
    "        track_album_name VARCHAR,\n",
    "        track_album_release_date DATE,\n",
    "        playlist_name VARCHAR,\n",
    "        playlist_id VARCHAR,\n",
    "        playlist_genre VARCHAR,\n",
    "        playlist_subgenre VARCHAR,\n",
    "        danceability FLOAT,\n",
    "        energy FLOAT,\n",
    "        key INT,\n",
    "        loudness FLOAT,\n",
    "        mode INT,\n",
    "        speechiness FLOAT,\n",
    "        acousticness FLOAT,\n",
    "        instrumentalness FLOAT,\n",
    "        liveness FLOAT,\n",
    "        valence FLOAT,\n",
    "        tempo FLOAT,\n",
    "        duration_ms INT\n",
    "    );\n",
    "    \"\"\"\n",
    ")"
   ]
  },
  {
   "cell_type": "code",
   "execution_count": 79,
   "metadata": {},
   "outputs": [
    {
     "name": "stdout",
     "output_type": "stream",
     "text": [
      "('spotify_stage/spotify_songs.csv.gz', 3117728, 'edf6606786ec91883a7652e46c4ebb32', 'Fri, 1 Nov 2024 02:19:15 GMT')\n"
     ]
    }
   ],
   "source": [
    "#stage and load csv\n",
    "csv_files = glob.glob(os.path.join(\"*.csv\"))\n",
    "\n",
    "cs.execute('use schema MUSIC_SCHEMA')\n",
    "\n",
    "for file_path in csv_files:\n",
    "    # The PUT command uploads a file to a stage\n",
    "    cs.execute(f\"PUT file://{file_path} @{schema_name}.{stage_name}\")\n",
    "\n",
    "# Confirm the files were uploaded\n",
    "cs.execute(f\"LIST @{schema_name}.{stage_name}\")\n",
    "for row in cs.fetchall():\n",
    "    print(row)"
   ]
  },
  {
   "cell_type": "code",
   "execution_count": 80,
   "metadata": {},
   "outputs": [
    {
     "name": "stdout",
     "output_type": "stream",
     "text": [
      "Data loaded into the table successfully.\n"
     ]
    }
   ],
   "source": [
    "# Load data from the staged file into the table\n",
    "cs.execute(\"\"\"\n",
    "    COPY INTO MUSIC_SCHEMA.spotify_songs\n",
    "    FROM @spotify_stage\n",
    "    FILE_FORMAT = (TYPE = 'CSV', FIELD_OPTIONALLY_ENCLOSED_BY='\"', SKIP_HEADER=1);\n",
    "\"\"\")\n",
    "\n",
    "print(\"Data loaded into the table successfully.\")\n"
   ]
  },
  {
   "cell_type": "code",
   "execution_count": 82,
   "metadata": {},
   "outputs": [
    {
     "name": "stdout",
     "output_type": "stream",
     "text": [
      "('6f807x0ima9a1j3VPbc7VN', \"I Don't Care (with Justin Bieber) - Loud Luxury Remix\", 'Ed Sheeran', 66, '2oCs0DGTsRO98Gh5ZSl2Cx', \"I Don't Care (with Justin Bieber) [Loud Luxury Remix]\", datetime.date(2019, 6, 14), 'Pop Remix', '37i9dQZF1DXcZDD7cfEKhW', 'pop', 'dance pop', 0.748, 0.916, 6, -2.634, 1, 0.0583, 0.102, 0.0, 0.0653, 0.518, 122.036, 194754)\n",
      "('0r7CVbZTWZgbTCYdfa2P31', 'Memories - Dillon Francis Remix', 'Maroon 5', 67, '63rPSO264uRjW1X5E6cWv6', 'Memories (Dillon Francis Remix)', datetime.date(2019, 12, 13), 'Pop Remix', '37i9dQZF1DXcZDD7cfEKhW', 'pop', 'dance pop', 0.726, 0.815, 11, -4.969, 1, 0.0373, 0.0724, 0.00421, 0.357, 0.693, 99.972, 162600)\n",
      "('1z1Hg7Vb0AhHDiEmnDE79l', 'All the Time - Don Diablo Remix', 'Zara Larsson', 70, '1HoSmj2eLcsrR0vE9gThr4', 'All the Time (Don Diablo Remix)', datetime.date(2019, 7, 5), 'Pop Remix', '37i9dQZF1DXcZDD7cfEKhW', 'pop', 'dance pop', 0.675, 0.931, 1, -3.432, 0, 0.0742, 0.0794, 2.33e-05, 0.11, 0.613, 124.008, 176616)\n",
      "('75FpbthrwQmzHlBJLuGdC7', 'Call You Mine - Keanu Silva Remix', 'The Chainsmokers', 60, '1nqYsOef1yKKuGOVchbsk6', 'Call You Mine - The Remixes', datetime.date(2019, 7, 19), 'Pop Remix', '37i9dQZF1DXcZDD7cfEKhW', 'pop', 'dance pop', 0.718, 0.93, 7, -3.778, 1, 0.102, 0.0287, 9.43e-06, 0.204, 0.277, 121.956, 169093)\n",
      "('1e8PAfcKUYoKkxPhrHqw4x', 'Someone You Loved - Future Humans Remix', 'Lewis Capaldi', 69, '7m7vv9wlQ4i0LFuJiE2zsQ', 'Someone You Loved (Future Humans Remix)', datetime.date(2019, 3, 5), 'Pop Remix', '37i9dQZF1DXcZDD7cfEKhW', 'pop', 'dance pop', 0.65, 0.833, 1, -4.672, 1, 0.0359, 0.0803, 0.0, 0.0833, 0.725, 123.976, 189052)\n"
     ]
    }
   ],
   "source": [
    "# Verify the load by selecting a few rows\n",
    "cs.execute(\"SELECT * FROM MUSIC_SCHEMA.spotify_songs LIMIT 5\")\n",
    "for row in cs:\n",
    "    print(row)\n"
   ]
  },
  {
   "cell_type": "code",
   "execution_count": 84,
   "metadata": {},
   "outputs": [],
   "source": [
    "cs.close()\n",
    "conn.close()"
   ]
  }
 ],
 "metadata": {
  "kernelspec": {
   "display_name": "Python 3",
   "language": "python",
   "name": "python3"
  },
  "language_info": {
   "codemirror_mode": {
    "name": "ipython",
    "version": 3
   },
   "file_extension": ".py",
   "mimetype": "text/x-python",
   "name": "python",
   "nbconvert_exporter": "python",
   "pygments_lexer": "ipython3",
   "version": "3.11.10"
  }
 },
 "nbformat": 4,
 "nbformat_minor": 2
}
