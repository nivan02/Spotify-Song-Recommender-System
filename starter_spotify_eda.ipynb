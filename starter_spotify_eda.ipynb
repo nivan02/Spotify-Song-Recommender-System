{
 "cells": [
  {
   "cell_type": "code",
   "execution_count": 4,
   "metadata": {},
   "outputs": [],
   "source": [
    "import pandas as pd \n",
    "import requests\n",
    "import json \n",
    "from sklearn.preprocessing import OneHotEncoder, normalize\n",
    "from fuzzywuzzy import process\n",
    "# Replace this with your API's deployed URL\n",
    "api_url = \"https://our-service-442302-c3.wl.r.appspot.com/get_data/spotify_songs\"\n"
   ]
  },
  {
   "cell_type": "code",
   "execution_count": 5,
   "metadata": {},
   "outputs": [],
   "source": [
    "try:\n",
    "    response = requests.get(api_url)\n",
    "    response.raise_for_status()  # Raise an error for bad status codes (4xx or 5xx)\n",
    "except requests.exceptions.RequestException as e:\n",
    "    print(f\"Error fetching data: {e}\")\n"
   ]
  },
  {
   "cell_type": "code",
   "execution_count": 6,
   "metadata": {},
   "outputs": [
    {
     "name": "stdout",
     "output_type": "stream",
     "text": [
      "Data saved locally as 'spotify_songs_local.csv'\n",
      "   ACOUSTICNESS  DANCEABILITY  DURATION_MS  ENERGY  INSTRUMENTALNESS  KEY  \\\n",
      "0        0.1020         0.748       194754   0.916          0.000000    6   \n",
      "1        0.0724         0.726       162600   0.815          0.004210   11   \n",
      "2        0.0794         0.675       176616   0.931          0.000023    1   \n",
      "3        0.0287         0.718       169093   0.930          0.000009    7   \n",
      "4        0.0803         0.650       189052   0.833          0.000000    1   \n",
      "\n",
      "   LIVENESS  LOUDNESS  MODE PLAYLIST_GENRE  ... SPEECHINESS    TEMPO  \\\n",
      "0    0.0653    -2.634     1            pop  ...      0.0583  122.036   \n",
      "1    0.3570    -4.969     1            pop  ...      0.0373   99.972   \n",
      "2    0.1100    -3.432     0            pop  ...      0.0742  124.008   \n",
      "3    0.2040    -3.778     1            pop  ...      0.1020  121.956   \n",
      "4    0.0833    -4.672     1            pop  ...      0.0359  123.976   \n",
      "\n",
      "           TRACK_ALBUM_ID                                   TRACK_ALBUM_NAME  \\\n",
      "0  2oCs0DGTsRO98Gh5ZSl2Cx  I Don't Care (with Justin Bieber) [Loud Luxury...   \n",
      "1  63rPSO264uRjW1X5E6cWv6                    Memories (Dillon Francis Remix)   \n",
      "2  1HoSmj2eLcsrR0vE9gThr4                    All the Time (Don Diablo Remix)   \n",
      "3  1nqYsOef1yKKuGOVchbsk6                        Call You Mine - The Remixes   \n",
      "4  7m7vv9wlQ4i0LFuJiE2zsQ            Someone You Loved (Future Humans Remix)   \n",
      "\n",
      "        TRACK_ALBUM_RELEASE_DATE      TRACK_ARTIST                TRACK_ID  \\\n",
      "0  Fri, 14 Jun 2019 00:00:00 GMT        Ed Sheeran  6f807x0ima9a1j3VPbc7VN   \n",
      "1  Fri, 13 Dec 2019 00:00:00 GMT          Maroon 5  0r7CVbZTWZgbTCYdfa2P31   \n",
      "2  Fri, 05 Jul 2019 00:00:00 GMT      Zara Larsson  1z1Hg7Vb0AhHDiEmnDE79l   \n",
      "3  Fri, 19 Jul 2019 00:00:00 GMT  The Chainsmokers  75FpbthrwQmzHlBJLuGdC7   \n",
      "4  Tue, 05 Mar 2019 00:00:00 GMT     Lewis Capaldi  1e8PAfcKUYoKkxPhrHqw4x   \n",
      "\n",
      "                                          TRACK_NAME TRACK_POPULARITY VALENCE  \n",
      "0  I Don't Care (with Justin Bieber) - Loud Luxur...               66   0.518  \n",
      "1                    Memories - Dillon Francis Remix               67   0.693  \n",
      "2                    All the Time - Don Diablo Remix               70   0.613  \n",
      "3                  Call You Mine - Keanu Silva Remix               60   0.277  \n",
      "4            Someone You Loved - Future Humans Remix               69   0.725  \n",
      "\n",
      "[5 rows x 23 columns]\n"
     ]
    }
   ],
   "source": [
    "if response.status_code == 200:\n",
    "    # Convert the JSON data to a DataFrame\n",
    "    data = response.json()  # Parse JSON from API response\n",
    "    df = pd.DataFrame(data)\n",
    "\n",
    "    # Save the data locally as a CSV for future use\n",
    "    df.to_csv(\"spotify_songs_local.csv\", index=False)\n",
    "    print(\"Data saved locally as 'spotify_songs_local.csv'\")\n",
    "\n",
    "    # Preview the first few rows\n",
    "    print(df.head())\n",
    "else:\n",
    "    print(f\"Failed to fetch data. Status Code: {response.status_code}\")\n"
   ]
  },
  {
   "cell_type": "code",
   "execution_count": 7,
   "metadata": {},
   "outputs": [
    {
     "name": "stdout",
     "output_type": "stream",
     "text": [
      "   ACOUSTICNESS  DANCEABILITY  DURATION_MS  ENERGY  INSTRUMENTALNESS  KEY  \\\n",
      "0        0.1020         0.748       194754   0.916          0.000000    6   \n",
      "1        0.0724         0.726       162600   0.815          0.004210   11   \n",
      "2        0.0794         0.675       176616   0.931          0.000023    1   \n",
      "3        0.0287         0.718       169093   0.930          0.000009    7   \n",
      "4        0.0803         0.650       189052   0.833          0.000000    1   \n",
      "\n",
      "   LIVENESS  LOUDNESS  MODE PLAYLIST_GENRE  ... SPEECHINESS    TEMPO  \\\n",
      "0    0.0653    -2.634     1            pop  ...      0.0583  122.036   \n",
      "1    0.3570    -4.969     1            pop  ...      0.0373   99.972   \n",
      "2    0.1100    -3.432     0            pop  ...      0.0742  124.008   \n",
      "3    0.2040    -3.778     1            pop  ...      0.1020  121.956   \n",
      "4    0.0833    -4.672     1            pop  ...      0.0359  123.976   \n",
      "\n",
      "           TRACK_ALBUM_ID                                   TRACK_ALBUM_NAME  \\\n",
      "0  2oCs0DGTsRO98Gh5ZSl2Cx  I Don't Care (with Justin Bieber) [Loud Luxury...   \n",
      "1  63rPSO264uRjW1X5E6cWv6                    Memories (Dillon Francis Remix)   \n",
      "2  1HoSmj2eLcsrR0vE9gThr4                    All the Time (Don Diablo Remix)   \n",
      "3  1nqYsOef1yKKuGOVchbsk6                        Call You Mine - The Remixes   \n",
      "4  7m7vv9wlQ4i0LFuJiE2zsQ            Someone You Loved (Future Humans Remix)   \n",
      "\n",
      "        TRACK_ALBUM_RELEASE_DATE      TRACK_ARTIST                TRACK_ID  \\\n",
      "0  Fri, 14 Jun 2019 00:00:00 GMT        Ed Sheeran  6f807x0ima9a1j3VPbc7VN   \n",
      "1  Fri, 13 Dec 2019 00:00:00 GMT          Maroon 5  0r7CVbZTWZgbTCYdfa2P31   \n",
      "2  Fri, 05 Jul 2019 00:00:00 GMT      Zara Larsson  1z1Hg7Vb0AhHDiEmnDE79l   \n",
      "3  Fri, 19 Jul 2019 00:00:00 GMT  The Chainsmokers  75FpbthrwQmzHlBJLuGdC7   \n",
      "4  Tue, 05 Mar 2019 00:00:00 GMT     Lewis Capaldi  1e8PAfcKUYoKkxPhrHqw4x   \n",
      "\n",
      "                                          TRACK_NAME TRACK_POPULARITY VALENCE  \n",
      "0  I Don't Care (with Justin Bieber) - Loud Luxur...               66   0.518  \n",
      "1                    Memories - Dillon Francis Remix               67   0.693  \n",
      "2                    All the Time - Don Diablo Remix               70   0.613  \n",
      "3                  Call You Mine - Keanu Silva Remix               60   0.277  \n",
      "4            Someone You Loved - Future Humans Remix               69   0.725  \n",
      "\n",
      "[5 rows x 23 columns]\n"
     ]
    }
   ],
   "source": [
    "# Check if it runs locally\n",
    "df = pd.read_csv(\"spotify_songs_local.csv\")\n",
    "print(df.head())\n",
    "\n"
   ]
  },
  {
   "cell_type": "code",
   "execution_count": 8,
   "metadata": {},
   "outputs": [
    {
     "data": {
      "text/plain": [
       "(32833, 23)"
      ]
     },
     "execution_count": 8,
     "metadata": {},
     "output_type": "execute_result"
    }
   ],
   "source": [
    "df.shape"
   ]
  },
  {
   "cell_type": "code",
   "execution_count": 9,
   "metadata": {},
   "outputs": [
    {
     "name": "stdout",
     "output_type": "stream",
     "text": [
      "Recommended songs: [\"I Don't Care (with Justin Bieber)\", 'SOS (feat. Aloe Blacc)', 'Attention', 'Ayy Macarena', 'ZEZE', 'Morado', 'You Need To Calm Down', 'Blanco', 'Loco Contigo (with J. Balvin & Ozuna feat. Nicky Jam, Natti Natasha, Darell & Sech) - REMIX', 'Look Back at It']\n"
     ]
    }
   ],
   "source": [
    "import pandas as pd\n",
    "from sklearn.preprocessing import MinMaxScaler, OneHotEncoder\n",
    "from sklearn.metrics.pairwise import cosine_similarity\n",
    "\n",
    "# Drop duplicates and handle missing values\n",
    "df = df.drop_duplicates()\n",
    "df = df.dropna()\n",
    "\n",
    "# Normalize numerical features (e.g., tempo, loudness, popularity)\n",
    "scaler = MinMaxScaler()\n",
    "df[['TEMPO', 'LOUDNESS', 'TRACK_POPULARITY', 'LIVENESS', 'DANCEABILITY', 'ENERGY', 'INSTRUMENTALNESS']] = scaler.fit_transform(\n",
    "    df[['TEMPO', 'LOUDNESS', 'TRACK_POPULARITY', 'LIVENESS', 'DANCEABILITY', 'ENERGY', 'INSTRUMENTALNESS']]\n",
    ")\n",
    "\n",
    "# One-hot encode the categorical feature (PLAYLIST_GENRE)\n",
    "encoder = OneHotEncoder()\n",
    "genre_encoded = encoder.fit_transform(df[['PLAYLIST_GENRE']]).toarray()\n",
    "genre_encoded_df = pd.DataFrame(genre_encoded, columns=encoder.get_feature_names_out(['PLAYLIST_GENRE']))\n",
    "\n",
    "# Concatenate the one-hot encoded genres back to the dataframe\n",
    "df = pd.concat([df.reset_index(drop=True), genre_encoded_df], axis=1)\n",
    "\n",
    "# Select features for recommendation\n",
    "features = ['TEMPO', 'LOUDNESS', 'LIVENESS', 'TRACK_POPULARITY', 'DANCEABILITY', 'ENERGY', 'INSTRUMENTALNESS'] + list(genre_encoded_df.columns)\n",
    "\n",
    "# Compute feature vectors\n",
    "feature_vectors = df[features].values\n",
    "\n",
    "# Calculate similarity matrix\n",
    "similarity_matrix = cosine_similarity(feature_vectors)\n",
    "\n",
    "# Function to get recommendations\n",
    "def get_recommendations(song_name, n=10):\n",
    "    # Find the index of the song\n",
    "    try:\n",
    "        idx = df[df['TRACK_NAME'] == song_name].index[0]\n",
    "    except IndexError:\n",
    "        return f\"Song '{song_name}' not found in the dataset.\"\n",
    "\n",
    "    # Get similarity scores\n",
    "    similarity_scores = list(enumerate(similarity_matrix[idx]))\n",
    "\n",
    "    # Sort by similarity scores\n",
    "    similarity_scores = sorted(similarity_scores, key=lambda x: x[1], reverse=True)\n",
    "\n",
    "    # Get top n similar songs, ensuring they are unique and not the same as the input song\n",
    "    recommended_songs = []\n",
    "    for i in similarity_scores:\n",
    "        if df.iloc[i[0]]['TRACK_NAME'] != song_name and df.iloc[i[0]]['TRACK_NAME'] not in recommended_songs:\n",
    "            recommended_songs.append(df.iloc[i[0]]['TRACK_NAME'])\n",
    "        if len(recommended_songs) >= n:\n",
    "            break\n",
    "\n",
    "    return recommended_songs\n",
    "\n",
    "# Example\n",
    "song = \"Shape of You\"  # Replace with a song in your dataset\n",
    "print(\"Recommended songs:\", get_recommendations(song))\n"
   ]
  },
  {
   "cell_type": "code",
   "execution_count": null,
   "metadata": {},
   "outputs": [],
   "source": []
  }
 ],
 "metadata": {
  "kernelspec": {
   "display_name": "base",
   "language": "python",
   "name": "python3"
  },
  "language_info": {
   "codemirror_mode": {
    "name": "ipython",
    "version": 3
   },
   "file_extension": ".py",
   "mimetype": "text/x-python",
   "name": "python",
   "nbconvert_exporter": "python",
   "pygments_lexer": "ipython3",
   "version": "3.9.13"
  }
 },
 "nbformat": 4,
 "nbformat_minor": 2
}
